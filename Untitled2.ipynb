{
 "cells": [
  {
   "cell_type": "code",
   "execution_count": null,
   "id": "5f7d6f96",
   "metadata": {},
   "outputs": [],
   "source": [
    "RandomSamplingImputation(DF0,\"Cloud9am\")"
   ]
  },
  {
   "cell_type": "code",
   "execution_count": null,
   "id": "3ba0c40f",
   "metadata": {},
   "outputs": [],
   "source": [
    "DF0.head(n=11)"
   ]
  },
  {
   "cell_type": "code",
   "execution_count": null,
   "id": "72eca379",
   "metadata": {},
   "outputs": [],
   "source": [
    "DF0.isnull().sum()*100/len(DF0)"
   ]
  },
  {
   "cell_type": "code",
   "execution_count": null,
   "id": "4e577e69",
   "metadata": {},
   "outputs": [],
   "source": [
    "DF = [a for a in NF if len(DF0[a].unique())<25]\n",
    "CF = [a for a in NF if a not in DF]"
   ]
  },
  {
   "cell_type": "code",
   "execution_count": null,
   "id": "554d9d5f",
   "metadata": {},
   "outputs": [],
   "source": [
    "print(DF)"
   ]
  },
  {
   "cell_type": "code",
   "execution_count": null,
   "id": "eb9d07ca",
   "metadata": {},
   "outputs": [],
   "source": [
    "print(CF)"
   ]
  },
  {
   "cell_type": "code",
   "execution_count": null,
   "id": "42a2fd4a",
   "metadata": {},
   "outputs": [],
   "source": [
    "DF0.isnull().sum()*100/len(DF0)"
   ]
  },
  {
   "cell_type": "code",
   "execution_count": null,
   "id": "87d46ea3",
   "metadata": {},
   "outputs": [],
   "source": [
    "for a in CF:\n",
    "    if(DF0[a].isnull().sum()*100/len(DF0))>0:\n",
    "        DF0[a] =DF0[a].fillna(DF0[a].median())"
   ]
  }
 ],
 "metadata": {
  "kernelspec": {
   "display_name": "Python 3 (ipykernel)",
   "language": "python",
   "name": "python3"
  },
  "language_info": {
   "codemirror_mode": {
    "name": "ipython",
    "version": 3
   },
   "file_extension": ".py",
   "mimetype": "text/x-python",
   "name": "python",
   "nbconvert_exporter": "python",
   "pygments_lexer": "ipython3",
   "version": "3.9.12"
  }
 },
 "nbformat": 4,
 "nbformat_minor": 5
}
